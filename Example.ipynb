{
 "cells": [
  {
   "cell_type": "markdown",
   "metadata": {},
   "source": [
    "# LFD Final Project - Example code"
   ]
  },
  {
   "cell_type": "code",
   "execution_count": null,
   "metadata": {},
   "outputs": [],
   "source": [
    "import pandas as pd\n",
    "from sklearn.pipeline import Pipeline\n",
    "from sklearn.feature_extraction.text import CountVectorizer\n",
    "from sklearn.naive_bayes import MultinomialNB\n",
    "from sklearn.metrics import accuracy_score"
   ]
  },
  {
   "cell_type": "code",
   "execution_count": 2,
   "metadata": {},
   "outputs": [],
   "source": [
    "train = pd.read_csv('../data/hyperp-training-grouped.csv.xz', \n",
    "                    compression='xz', \n",
    "                    sep='\\t',\n",
    "                    encoding='utf-8',\n",
    "                    index_col=0).dropna()"
   ]
  },
  {
   "cell_type": "code",
   "execution_count": 3,
   "metadata": {},
   "outputs": [
    {
     "data": {
      "text/html": [
       "<div>\n",
       "<style scoped>\n",
       "    .dataframe tbody tr th:only-of-type {\n",
       "        vertical-align: middle;\n",
       "    }\n",
       "\n",
       "    .dataframe tbody tr th {\n",
       "        vertical-align: top;\n",
       "    }\n",
       "\n",
       "    .dataframe thead th {\n",
       "        text-align: right;\n",
       "    }\n",
       "</style>\n",
       "<table border=\"1\" class=\"dataframe\">\n",
       "  <thead>\n",
       "    <tr style=\"text-align: right;\">\n",
       "      <th></th>\n",
       "      <th>id</th>\n",
       "      <th>hyperp</th>\n",
       "      <th>bias</th>\n",
       "      <th>url</th>\n",
       "      <th>labeledby</th>\n",
       "      <th>publisher</th>\n",
       "      <th>date</th>\n",
       "      <th>title</th>\n",
       "      <th>text</th>\n",
       "      <th>raw_text</th>\n",
       "    </tr>\n",
       "  </thead>\n",
       "  <tbody>\n",
       "    <tr>\n",
       "      <th>85886</th>\n",
       "      <td>1298911</td>\n",
       "      <td>False</td>\n",
       "      <td>left-center</td>\n",
       "      <td>https://calwatchdog.com/2015/01/12/look-for-th...</td>\n",
       "      <td>publisher</td>\n",
       "      <td>https://calwatchdog.com/</td>\n",
       "      <td>2018-01-20</td>\n",
       "      <td>Look for the budget trailer-bill details</td>\n",
       "      <td>Gov. Jerry Brown?s budget proposal, released F...</td>\n",
       "      <td>b'&lt;article id=\"1298911\" published-at=\"2018-01-...</td>\n",
       "    </tr>\n",
       "    <tr>\n",
       "      <th>172919</th>\n",
       "      <td>732442</td>\n",
       "      <td>True</td>\n",
       "      <td>left</td>\n",
       "      <td>https://dissentmagazine.org/article/when-g-m-w...</td>\n",
       "      <td>publisher</td>\n",
       "      <td>https://dissentmagazine.org/</td>\n",
       "      <td>2018-07-16</td>\n",
       "      <td>When G.M. Wrecked Flint</td>\n",
       "      <td>Roger and Me, a radical documentary ? marketed...</td>\n",
       "      <td>b'&lt;article id=\"0732442\" published-at=\"2018-07-...</td>\n",
       "    </tr>\n",
       "    <tr>\n",
       "      <th>179773</th>\n",
       "      <td>994298</td>\n",
       "      <td>True</td>\n",
       "      <td>right</td>\n",
       "      <td>http://foxbusiness.com/politics/2014/08/29/mid...</td>\n",
       "      <td>publisher</td>\n",
       "      <td>http://foxbusiness.com/</td>\n",
       "      <td>2016-03-05</td>\n",
       "      <td>Midwestern Manufacturing Activity Highest Sinc...</td>\n",
       "      <td>\\nThe pace of business activity in the U.S. M...</td>\n",
       "      <td>b'&lt;article id=\"0994298\" published-at=\"2016-03-...</td>\n",
       "    </tr>\n",
       "  </tbody>\n",
       "</table>\n",
       "</div>"
      ],
      "text/plain": [
       "             id  hyperp         bias  \\\n",
       "85886   1298911   False  left-center   \n",
       "172919   732442    True         left   \n",
       "179773   994298    True        right   \n",
       "\n",
       "                                                      url  labeledby  \\\n",
       "85886   https://calwatchdog.com/2015/01/12/look-for-th...  publisher   \n",
       "172919  https://dissentmagazine.org/article/when-g-m-w...  publisher   \n",
       "179773  http://foxbusiness.com/politics/2014/08/29/mid...  publisher   \n",
       "\n",
       "                           publisher        date  \\\n",
       "85886       https://calwatchdog.com/  2018-01-20   \n",
       "172919  https://dissentmagazine.org/  2018-07-16   \n",
       "179773       http://foxbusiness.com/  2016-03-05   \n",
       "\n",
       "                                                    title  \\\n",
       "85886            Look for the budget trailer-bill details   \n",
       "172919                            When G.M. Wrecked Flint   \n",
       "179773  Midwestern Manufacturing Activity Highest Sinc...   \n",
       "\n",
       "                                                     text  \\\n",
       "85886   Gov. Jerry Brown?s budget proposal, released F...   \n",
       "172919  Roger and Me, a radical documentary ? marketed...   \n",
       "179773   \\nThe pace of business activity in the U.S. M...   \n",
       "\n",
       "                                                 raw_text  \n",
       "85886   b'<article id=\"1298911\" published-at=\"2018-01-...  \n",
       "172919  b'<article id=\"0732442\" published-at=\"2018-07-...  \n",
       "179773  b'<article id=\"0994298\" published-at=\"2016-03-...  "
      ]
     },
     "execution_count": 3,
     "metadata": {},
     "output_type": "execute_result"
    }
   ],
   "source": [
    "train.sample(3)"
   ]
  },
  {
   "cell_type": "code",
   "execution_count": 4,
   "metadata": {},
   "outputs": [],
   "source": [
    "pipeline = Pipeline([('vec', CountVectorizer()),\n",
    "                     ('clf', MultinomialNB())])"
   ]
  },
  {
   "cell_type": "code",
   "execution_count": 5,
   "metadata": {},
   "outputs": [],
   "source": [
    "model = pipeline.fit(train.text, train.hyperp)"
   ]
  },
  {
   "cell_type": "code",
   "execution_count": 6,
   "metadata": {},
   "outputs": [],
   "source": [
    "y_pred = model.predict(train.text)\n"
   ]
  },
  {
   "cell_type": "code",
   "execution_count": 7,
   "metadata": {},
   "outputs": [
    {
     "data": {
      "text/plain": [
       "0.8464934904161594"
      ]
     },
     "execution_count": 7,
     "metadata": {},
     "output_type": "execute_result"
    }
   ],
   "source": [
    "accuracy_score(y_pred, train.hyperp)"
   ]
  }
 ],
 "metadata": {
  "kernelspec": {
   "display_name": "Python 3",
   "language": "python",
   "name": "python3"
  },
  "language_info": {
   "codemirror_mode": {
    "name": "ipython",
    "version": 3
   },
   "file_extension": ".py",
   "mimetype": "text/x-python",
   "name": "python",
   "nbconvert_exporter": "python",
   "pygments_lexer": "ipython3",
   "version": "3.7.0"
  }
 },
 "nbformat": 4,
 "nbformat_minor": 2
}
